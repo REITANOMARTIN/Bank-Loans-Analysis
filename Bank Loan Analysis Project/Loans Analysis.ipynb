{
 "cells": [
  {
   "cell_type": "markdown",
   "id": "1f50527d",
   "metadata": {},
   "source": [
    "# BANK LOAN ANALYSIS REPORT"
   ]
  },
  {
   "cell_type": "markdown",
   "id": "63853a27",
   "metadata": {},
   "source": [
    "### Import Libraries"
   ]
  },
  {
   "cell_type": "code",
   "execution_count": 1,
   "id": "d8523de6",
   "metadata": {},
   "outputs": [],
   "source": [
    "import pandas as pd\n",
    "import numpy as np\n",
    "import matplotlib.pyplot as plt\n",
    "import seaborn as sns\n",
    "import warnings\n",
    "import plotly.express as px\n",
    "\n"
   ]
  },
  {
   "cell_type": "code",
   "execution_count": 2,
   "id": "1a9ce383",
   "metadata": {},
   "outputs": [],
   "source": [
    "df=pd.read_excel(\"/home/martin/Escritorio/Python/Bank loans analysis/financial_loan.xlsx\")"
   ]
  },
  {
   "cell_type": "markdown",
   "id": "187bfc05",
   "metadata": {},
   "source": [
    "### Metadata of data"
   ]
  },
  {
   "cell_type": "code",
   "execution_count": 3,
   "id": "90bfd4c4",
   "metadata": {},
   "outputs": [
    {
     "name": "stdout",
     "output_type": "stream",
     "text": [
      "No of rows: 38576\n"
     ]
    }
   ],
   "source": [
    "print (\"No of rows:\",df.shape[0])"
   ]
  },
  {
   "cell_type": "code",
   "execution_count": 4,
   "id": "bf64f824",
   "metadata": {},
   "outputs": [
    {
     "name": "stdout",
     "output_type": "stream",
     "text": [
      "No of columns: 24\n"
     ]
    }
   ],
   "source": [
    "print (\"No of columns:\",df.shape[1])"
   ]
  },
  {
   "cell_type": "code",
   "execution_count": 5,
   "id": "bdabdd18",
   "metadata": {},
   "outputs": [
    {
     "data": {
      "text/plain": [
       "<bound method DataFrame.info of             id address_state application_type emp_length  \\\n",
       "0      1077430            GA       INDIVIDUAL   < 1 year   \n",
       "1      1072053            CA       INDIVIDUAL    9 years   \n",
       "2      1069243            CA       INDIVIDUAL    4 years   \n",
       "3      1041756            TX       INDIVIDUAL   < 1 year   \n",
       "4      1068350            IL       INDIVIDUAL  10+ years   \n",
       "...        ...           ...              ...        ...   \n",
       "38571   803452            NJ       INDIVIDUAL   < 1 year   \n",
       "38572   970377            NY       INDIVIDUAL    8 years   \n",
       "38573   875376            CA       INDIVIDUAL    5 years   \n",
       "38574   972997            NY       INDIVIDUAL    5 years   \n",
       "38575   682952            NY       INDIVIDUAL    4 years   \n",
       "\n",
       "                             emp_title grade home_ownership issue_date  \\\n",
       "0                                Ryder     C           RENT 2021-02-11   \n",
       "1                       MKC Accounting     E           RENT 2021-01-01   \n",
       "2                Chemat Technology Inc     C           RENT 2021-01-05   \n",
       "3                  barnes distribution     B       MORTGAGE 2021-02-25   \n",
       "4                        J&J Steel Inc     A       MORTGAGE 2021-01-01   \n",
       "...                                ...   ...            ...        ...   \n",
       "38571         Joseph M Sanzari Company     C       MORTGAGE 2021-07-11   \n",
       "38572                        Swat Fame     C           RENT 2021-10-11   \n",
       "38573  Anaheim Regional Medical Center     D           RENT 2021-09-11   \n",
       "38574               Brooklyn Radiology     D           RENT 2021-10-11   \n",
       "38575                    Allen Edmonds     F           RENT 2021-07-11   \n",
       "\n",
       "      last_credit_pull_date last_payment_date  ... sub_grade        term  \\\n",
       "0                2021-09-13        2021-04-13  ...        C4   60 months   \n",
       "1                2021-12-14        2021-01-15  ...        E1   36 months   \n",
       "2                2021-12-12        2021-01-09  ...        C5   36 months   \n",
       "3                2021-12-12        2021-03-12  ...        B2   60 months   \n",
       "4                2021-12-14        2021-01-15  ...        A1   36 months   \n",
       "...                     ...               ...  ...       ...         ...   \n",
       "38571            2021-05-16        2021-05-16  ...        C1   60 months   \n",
       "38572            2021-04-16        2021-05-16  ...        C1   60 months   \n",
       "38573            2021-05-16        2021-05-16  ...        D5   60 months   \n",
       "38574            2021-05-16        2021-05-16  ...        D5   60 months   \n",
       "38575            2021-05-16        2021-05-16  ...        F3   60 months   \n",
       "\n",
       "       verification_status annual_income     dti installment int_rate  \\\n",
       "0          Source Verified       30000.0  0.0100       59.83   0.1527   \n",
       "1          Source Verified       48000.0  0.0535      109.43   0.1864   \n",
       "2             Not Verified       50000.0  0.2088      421.65   0.1596   \n",
       "3          Source Verified       42000.0  0.0540       97.06   0.1065   \n",
       "4                 Verified       83000.0  0.0231      106.53   0.0603   \n",
       "...                    ...           ...     ...         ...      ...   \n",
       "38571             Verified      100000.0  0.1986      551.64   0.1299   \n",
       "38572             Verified       50000.0  0.0458      579.72   0.1349   \n",
       "38573             Verified       65000.0  0.1734      627.93   0.1749   \n",
       "38574             Verified      368000.0  0.0009      612.72   0.1825   \n",
       "38575             Verified       80000.0  0.0600      486.86   0.2099   \n",
       "\n",
       "       loan_amount  total_acc  total_payment  \n",
       "0             2500          4           1009  \n",
       "1             3000          4           3939  \n",
       "2            12000         11           3522  \n",
       "3             4500          9           4911  \n",
       "4             3500         28           3835  \n",
       "...            ...        ...            ...  \n",
       "38571        24250         33          31946  \n",
       "38572        25200         18          31870  \n",
       "38573        25000         20          35721  \n",
       "38574        24000          9          33677  \n",
       "38575        18000          7          27679  \n",
       "\n",
       "[38576 rows x 24 columns]>"
      ]
     },
     "execution_count": 5,
     "metadata": {},
     "output_type": "execute_result"
    }
   ],
   "source": [
    "df.info"
   ]
  },
  {
   "cell_type": "markdown",
   "id": "d31d524b",
   "metadata": {},
   "source": [
    "### Data types"
   ]
  },
  {
   "cell_type": "code",
   "execution_count": 6,
   "id": "31e89db8",
   "metadata": {},
   "outputs": [
    {
     "data": {
      "text/plain": [
       "id                                int64\n",
       "address_state                    object\n",
       "application_type                 object\n",
       "emp_length                       object\n",
       "emp_title                        object\n",
       "grade                            object\n",
       "home_ownership                   object\n",
       "issue_date               datetime64[ns]\n",
       "last_credit_pull_date    datetime64[ns]\n",
       "last_payment_date        datetime64[ns]\n",
       "loan_status                      object\n",
       "next_payment_date        datetime64[ns]\n",
       "member_id                         int64\n",
       "purpose                          object\n",
       "sub_grade                        object\n",
       "term                             object\n",
       "verification_status              object\n",
       "annual_income                   float64\n",
       "dti                             float64\n",
       "installment                     float64\n",
       "int_rate                        float64\n",
       "loan_amount                       int64\n",
       "total_acc                         int64\n",
       "total_payment                     int64\n",
       "dtype: object"
      ]
     },
     "execution_count": 6,
     "metadata": {},
     "output_type": "execute_result"
    }
   ],
   "source": [
    "df.dtypes"
   ]
  },
  {
   "cell_type": "code",
   "execution_count": 7,
   "id": "e344985c",
   "metadata": {},
   "outputs": [
    {
     "data": {
      "text/plain": [
       "<bound method NDFrame.describe of             id address_state application_type emp_length  \\\n",
       "0      1077430            GA       INDIVIDUAL   < 1 year   \n",
       "1      1072053            CA       INDIVIDUAL    9 years   \n",
       "2      1069243            CA       INDIVIDUAL    4 years   \n",
       "3      1041756            TX       INDIVIDUAL   < 1 year   \n",
       "4      1068350            IL       INDIVIDUAL  10+ years   \n",
       "...        ...           ...              ...        ...   \n",
       "38571   803452            NJ       INDIVIDUAL   < 1 year   \n",
       "38572   970377            NY       INDIVIDUAL    8 years   \n",
       "38573   875376            CA       INDIVIDUAL    5 years   \n",
       "38574   972997            NY       INDIVIDUAL    5 years   \n",
       "38575   682952            NY       INDIVIDUAL    4 years   \n",
       "\n",
       "                             emp_title grade home_ownership issue_date  \\\n",
       "0                                Ryder     C           RENT 2021-02-11   \n",
       "1                       MKC Accounting     E           RENT 2021-01-01   \n",
       "2                Chemat Technology Inc     C           RENT 2021-01-05   \n",
       "3                  barnes distribution     B       MORTGAGE 2021-02-25   \n",
       "4                        J&J Steel Inc     A       MORTGAGE 2021-01-01   \n",
       "...                                ...   ...            ...        ...   \n",
       "38571         Joseph M Sanzari Company     C       MORTGAGE 2021-07-11   \n",
       "38572                        Swat Fame     C           RENT 2021-10-11   \n",
       "38573  Anaheim Regional Medical Center     D           RENT 2021-09-11   \n",
       "38574               Brooklyn Radiology     D           RENT 2021-10-11   \n",
       "38575                    Allen Edmonds     F           RENT 2021-07-11   \n",
       "\n",
       "      last_credit_pull_date last_payment_date  ... sub_grade        term  \\\n",
       "0                2021-09-13        2021-04-13  ...        C4   60 months   \n",
       "1                2021-12-14        2021-01-15  ...        E1   36 months   \n",
       "2                2021-12-12        2021-01-09  ...        C5   36 months   \n",
       "3                2021-12-12        2021-03-12  ...        B2   60 months   \n",
       "4                2021-12-14        2021-01-15  ...        A1   36 months   \n",
       "...                     ...               ...  ...       ...         ...   \n",
       "38571            2021-05-16        2021-05-16  ...        C1   60 months   \n",
       "38572            2021-04-16        2021-05-16  ...        C1   60 months   \n",
       "38573            2021-05-16        2021-05-16  ...        D5   60 months   \n",
       "38574            2021-05-16        2021-05-16  ...        D5   60 months   \n",
       "38575            2021-05-16        2021-05-16  ...        F3   60 months   \n",
       "\n",
       "       verification_status annual_income     dti installment int_rate  \\\n",
       "0          Source Verified       30000.0  0.0100       59.83   0.1527   \n",
       "1          Source Verified       48000.0  0.0535      109.43   0.1864   \n",
       "2             Not Verified       50000.0  0.2088      421.65   0.1596   \n",
       "3          Source Verified       42000.0  0.0540       97.06   0.1065   \n",
       "4                 Verified       83000.0  0.0231      106.53   0.0603   \n",
       "...                    ...           ...     ...         ...      ...   \n",
       "38571             Verified      100000.0  0.1986      551.64   0.1299   \n",
       "38572             Verified       50000.0  0.0458      579.72   0.1349   \n",
       "38573             Verified       65000.0  0.1734      627.93   0.1749   \n",
       "38574             Verified      368000.0  0.0009      612.72   0.1825   \n",
       "38575             Verified       80000.0  0.0600      486.86   0.2099   \n",
       "\n",
       "       loan_amount  total_acc  total_payment  \n",
       "0             2500          4           1009  \n",
       "1             3000          4           3939  \n",
       "2            12000         11           3522  \n",
       "3             4500          9           4911  \n",
       "4             3500         28           3835  \n",
       "...            ...        ...            ...  \n",
       "38571        24250         33          31946  \n",
       "38572        25200         18          31870  \n",
       "38573        25000         20          35721  \n",
       "38574        24000          9          33677  \n",
       "38575        18000          7          27679  \n",
       "\n",
       "[38576 rows x 24 columns]>"
      ]
     },
     "execution_count": 7,
     "metadata": {},
     "output_type": "execute_result"
    }
   ],
   "source": [
    "df.describe"
   ]
  },
  {
   "cell_type": "markdown",
   "id": "ca351e4e",
   "metadata": {},
   "source": [
    "### Total loan aplications"
   ]
  },
  {
   "cell_type": "code",
   "execution_count": 8,
   "id": "e15ef253",
   "metadata": {},
   "outputs": [
    {
     "name": "stdout",
     "output_type": "stream",
     "text": [
      "Total Loan Aplicattions: 38576\n"
     ]
    }
   ],
   "source": [
    "total_loan_aplications= df['id'].count ()\n",
    "print(\"Total Loan Aplicattions:\",total_loan_aplications)"
   ]
  },
  {
   "cell_type": "markdown",
   "id": "c0599e45",
   "metadata": {},
   "source": [
    "### MTD Total Loan Applicarion"
   ]
  },
  {
   "cell_type": "code",
   "execution_count": 9,
   "id": "ac3d780c",
   "metadata": {},
   "outputs": [
    {
     "name": "stdout",
     "output_type": "stream",
     "text": [
      "MTD Loan Applications(forDecember 2021):4314\n"
     ]
    }
   ],
   "source": [
    "latest_issue_date= df['issue_date'].max()\n",
    "latest_year=latest_issue_date.year\n",
    "latest_month=latest_issue_date.month\n",
    "\n",
    "mtd_data=df[(df['issue_date'].dt.year==latest_year)&(df['issue_date'].dt.month==latest_month)]\n",
    "\n",
    "mtd_loan_applications=mtd_data['id'].count()\n",
    "\n",
    "print(f\"MTD Loan Applications(for{latest_issue_date.strftime('%B %Y')}):{mtd_loan_applications}\")"
   ]
  },
  {
   "cell_type": "markdown",
   "id": "b8877428",
   "metadata": {},
   "source": [
    "### Total Funded Amount"
   ]
  },
  {
   "cell_type": "code",
   "execution_count": 10,
   "id": "48b07d33",
   "metadata": {},
   "outputs": [
    {
     "name": "stdout",
     "output_type": "stream",
     "text": [
      "total_funded_amount:$435.76M\n"
     ]
    }
   ],
   "source": [
    "total_funded_amount=df['loan_amount'].sum()\n",
    "total_funded_amount_millions=total_funded_amount/1000000\n",
    "print(\"total_funded_amount:${:.2f}M\".format(total_funded_amount_millions))"
   ]
  },
  {
   "cell_type": "markdown",
   "id": "34c748b8",
   "metadata": {},
   "source": [
    "### MTD - Total Funded Amount"
   ]
  },
  {
   "cell_type": "code",
   "execution_count": 11,
   "id": "33019dca",
   "metadata": {},
   "outputs": [
    {
     "name": "stdout",
     "output_type": "stream",
     "text": [
      "MTD Total Funded Amount:$53.98M\n"
     ]
    }
   ],
   "source": [
    "latest_issue_date= df['issue_date'].max()\n",
    "latest_year=latest_issue_date.year\n",
    "latest_month=latest_issue_date.month\n",
    "\n",
    "mtd_data=df[(df['issue_date'].dt.year==latest_year)&(df['issue_date'].dt.month==latest_month)]\n",
    "\n",
    "mtd_total_funded_amount=mtd_data['loan_amount'].sum()\n",
    "mtd_total_funded_amount_millions = mtd_total_funded_amount/1000000\n",
    "\n",
    "print(\"MTD Total Funded Amount:${:.2f}M\". format(mtd_total_funded_amount_millions))"
   ]
  },
  {
   "cell_type": "markdown",
   "id": "ab2d3bc8",
   "metadata": {},
   "source": [
    "### Total Amount Received"
   ]
  },
  {
   "cell_type": "code",
   "execution_count": 12,
   "id": "7695cb9b",
   "metadata": {},
   "outputs": [
    {
     "name": "stdout",
     "output_type": "stream",
     "text": [
      "Total Amount Received:$435.76M\n"
     ]
    }
   ],
   "source": [
    "total_amount_received=df['total_payment'].sum()\n",
    "total_amount_received_millions=total_funded_amount/1000000\n",
    "print(\"Total Amount Received:${:.2f}M\".format(total_amount_received_millions))"
   ]
  },
  {
   "cell_type": "markdown",
   "id": "c5f5c6ed",
   "metadata": {},
   "source": [
    "### MTD Total Amount Received"
   ]
  },
  {
   "cell_type": "code",
   "execution_count": 13,
   "id": "515df91d",
   "metadata": {},
   "outputs": [
    {
     "name": "stdout",
     "output_type": "stream",
     "text": [
      "MTD Total Amount Received:$53.98M\n"
     ]
    }
   ],
   "source": [
    "latest_issue_date= df['issue_date'].max()\n",
    "latest_year=latest_issue_date.year\n",
    "latest_month=latest_issue_date.month\n",
    "\n",
    "mtd_data=df[(df['issue_date'].dt.year==latest_year)&(df['issue_date'].dt.month==latest_month)]\n",
    "\n",
    "mtd_total_amount_received=mtd_data['loan_amount'].sum()\n",
    "mtd_total_amount_received_millions = mtd_total_amount_received/1000000\n",
    "\n",
    "print(\"MTD Total Amount Received:${:.2f}M\". format(mtd_total_amount_received_millions))"
   ]
  },
  {
   "cell_type": "markdown",
   "id": "d61925ec",
   "metadata": {},
   "source": [
    "### Average Interest Rate "
   ]
  },
  {
   "cell_type": "code",
   "execution_count": 14,
   "id": "041036af",
   "metadata": {},
   "outputs": [
    {
     "name": "stdout",
     "output_type": "stream",
     "text": [
      "Avg Int Rate:12.05%\n"
     ]
    }
   ],
   "source": [
    "average_interest_rate= df['int_rate'].mean()*100\n",
    "print(\"Avg Int Rate:{:.2f}%\".format(average_interest_rate))"
   ]
  },
  {
   "cell_type": "markdown",
   "id": "cc526b60",
   "metadata": {},
   "source": [
    "### Average Debt-to Income Ratio (DTI)"
   ]
  },
  {
   "cell_type": "code",
   "execution_count": 15,
   "id": "0b5f9e9d",
   "metadata": {},
   "outputs": [
    {
     "name": "stdout",
     "output_type": "stream",
     "text": [
      "Avg DTI:13.33%\n"
     ]
    }
   ],
   "source": [
    "average_dti= df['dti'].mean()*100\n",
    "print(\"Avg DTI:{:.2f}%\".format(average_dti))"
   ]
  },
  {
   "cell_type": "markdown",
   "id": "43546b9f",
   "metadata": {},
   "source": [
    "### Good Loan Metrics"
   ]
  },
  {
   "cell_type": "code",
   "execution_count": 16,
   "id": "22c694c5",
   "metadata": {},
   "outputs": [
    {
     "name": "stdout",
     "output_type": "stream",
     "text": [
      "Good Loan Applications: 33243\n",
      "Good Loan Funded Amount (In Millions): $370.22M\n",
      "Good Loan Total Received (In Millions): $435.79M\n",
      "Percentage of Good good_loan_applications: $86.18M\n"
     ]
    }
   ],
   "source": [
    "good_loans = df[df['loan_status'].isin([\"Fully Paid\",\"Current\"])] ## Fully paid on time loans\n",
    "\n",
    "total_loan_applications = df['id'].count()\n",
    "\n",
    "good_loan_applications = good_loans['id'].count()\n",
    "good_loan_funded_amount = good_loans['loan_amount'].sum()\n",
    "good_loan_received = good_loans['total_payment'].sum()\n",
    "\n",
    "good_loan_funded_amount_millions = good_loan_funded_amount / 1000000\n",
    "good_loan_received_millions = good_loan_received / 1000000\n",
    "\n",
    "good_loan_percentage = (good_loan_applications / total_loan_applications) * 100\n",
    "\n",
    "print(\"Good Loan Applications:\", good_loan_applications)\n",
    "print(\"Good Loan Funded Amount (In Millions): ${:.2f}M\".format(good_loan_funded_amount_millions))\n",
    "print(\"Good Loan Total Received (In Millions): ${:.2f}M\".format(good_loan_received_millions))\n",
    "print(\"Percentage of Good good_loan_applications: ${:.2f}M\".format(good_loan_percentage))"
   ]
  },
  {
   "cell_type": "markdown",
   "id": "34fd9492",
   "metadata": {},
   "source": [
    "### Bad Loan Metrics"
   ]
  },
  {
   "cell_type": "code",
   "execution_count": 17,
   "id": "49f4d086",
   "metadata": {},
   "outputs": [
    {
     "name": "stdout",
     "output_type": "stream",
     "text": [
      "Bad Loan Applications: 5333\n",
      "Bad Loan Funded Amount (In Millions): $65.53M\n",
      "Bad Loan Total Received (In Millions): $37.28M\n",
      "Percentage of Bad loan applications: $13.82M\n"
     ]
    }
   ],
   "source": [
    "bad_loans = df[df['loan_status'].isin([\"Charged Off\"])] ## loans not recovered on time or not recovered at all\n",
    "\n",
    "total_loan_applications = df['id'].count()\n",
    "\n",
    "bad_loan_applications = bad_loans['id'].count()\n",
    "bad_loan_funded_amount = bad_loans['loan_amount'].sum()\n",
    "bad_loan_received = bad_loans['total_payment'].sum()\n",
    "\n",
    "bad_loan_funded_amount_millions = bad_loan_funded_amount / 1000000\n",
    "bad_loan_received_millions = bad_loan_received / 1000000\n",
    "\n",
    "bad_loan_percentage = (bad_loan_applications / total_loan_applications) * 100\n",
    "\n",
    "print(\"Bad Loan Applications:\", bad_loan_applications)\n",
    "print(\"Bad Loan Funded Amount (In Millions): ${:.2f}M\".format(bad_loan_funded_amount_millions))\n",
    "print(\"Bad Loan Total Received (In Millions): ${:.2f}M\".format(bad_loan_received_millions))\n",
    "print(\"Percentage of Bad loan applications: ${:.2f}M\".format(bad_loan_percentage))"
   ]
  },
  {
   "cell_type": "markdown",
   "id": "92e7e4b9",
   "metadata": {},
   "source": [
    "### MONTHLY TRENDS BY ISSUE DATE FOR TOTAL FUNDED AMOUNT"
   ]
  },
  {
   "cell_type": "code",
   "execution_count": 19,
   "id": "0dddcddf",
   "metadata": {},
   "outputs": [
    {
     "data": {
      "image/png": "[encoded data removed]",
      "text/plain": [
       "<Figure size 1000x500 with 1 Axes>"
      ]
     },
     "metadata": {},
     "output_type": "display_data"
    }
   ],
   "source": [
    "monthly_funded = (\n",
    "    df.sort_values('issue_date')\n",
    "    .assign(month_name=lambda x: x['issue_date'].dt.strftime('%b %y'))\n",
    "    .groupby('month_name', sort=False)['loan_amount']\n",
    "    .sum()\n",
    "    .div(1_000_000)\n",
    "    .reset_index(name='loan_amount_millions')\n",
    ")\n",
    "\n",
    "plt.figure(figsize=(10,5))\n",
    "\n",
    "# Usamos índice numérico en el eje X\n",
    "x = range(len(monthly_funded))\n",
    "\n",
    "# Área y línea\n",
    "plt.fill_between(x, monthly_funded['loan_amount_millions'], color='skyblue', alpha=0.5)\n",
    "plt.plot(x, monthly_funded['loan_amount_millions'], color='blue', linewidth=2)\n",
    "\n",
    "# Etiquetas de valores\n",
    "for i, row in monthly_funded.iterrows():\n",
    "    plt.text(i, row['loan_amount_millions'] + 0.1,\n",
    "             f\"{row['loan_amount_millions']:.2f}\",\n",
    "             ha='center', va='bottom', fontsize=9, color='black')\n",
    "\n",
    "# Títulos y ejes\n",
    "plt.title('Total Funded Amount by Month', fontsize=14)\n",
    "plt.xlabel('Month')\n",
    "plt.ylabel('Funded Amount (€ Millions)')\n",
    "\n",
    "# Etiquetas personalizadas en el eje X\n",
    "plt.xticks(ticks=x, labels=monthly_funded['month_name'], rotation=45)\n",
    "\n",
    "# Estética\n",
    "plt.grid(True, linestyle='--', alpha=0.6)\n",
    "plt.tight_layout()\n",
    "plt.show()\n",
    "    "
   ]
  }
 ],
 "metadata": {
  "kernelspec": {
   "display_name": "Python 3",
   "language": "python",
   "name": "python3"
  },
  "language_info": {
   "codemirror_mode": {
    "name": "ipython",
    "version": 3
   },
   "file_extension": ".py",
   "mimetype": "text/x-python",
   "name": "python",
   "nbconvert_exporter": "python",
   "pygments_lexer": "ipython3",
   "version": "3.10.12"
  }
 },
 "nbformat": 4,
 "nbformat_minor": 5
}
